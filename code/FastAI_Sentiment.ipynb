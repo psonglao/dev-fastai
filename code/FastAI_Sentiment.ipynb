{
 "cells": [
  {
   "cell_type": "markdown",
   "metadata": {},
   "source": [
    "## Sentiment Analysis: Modeling Amazon Reviews with FastAI"
   ]
  },
  {
   "cell_type": "markdown",
   "metadata": {},
   "source": [
    "### Preliminaries"
   ]
  },
  {
   "cell_type": "code",
   "execution_count": 1,
   "metadata": {},
   "outputs": [],
   "source": [
    "import re\n",
    "\n",
    "from sklearn.model_selection import train_test_split\n",
    "from sklearn.metrics import balanced_accuracy_score, accuracy_score, confusion_matrix\n",
    "import pandas as pd\n",
    "import warnings\n",
    "import seaborn as sns\n",
    "\n",
    "warnings.filterwarnings('ignore')"
   ]
  },
  {
   "cell_type": "code",
   "execution_count": 34,
   "metadata": {},
   "outputs": [],
   "source": [
    "SMALL_SIZE = 14\n",
    "MEDIUM_SIZE = 18\n",
    "BIGGER_SIZE = 22\n",
    "\n",
    "plt.rc('font', size=SMALL_SIZE)          # controls default text sizes\n",
    "plt.rc('axes', titlesize=SMALL_SIZE)     # fontsize of the axes title\n",
    "plt.rc('axes', labelsize=MEDIUM_SIZE)    # fontsize of the x and y labels\n",
    "plt.rc('xtick', labelsize=SMALL_SIZE)    # fontsize of the tick labels\n",
    "plt.rc('ytick', labelsize=SMALL_SIZE)    # fontsize of the tick labels\n",
    "plt.rc('legend', fontsize=SMALL_SIZE)    # legend fontsize\n",
    "plt.rc('figure', titlesize=BIGGER_SIZE)  # fontsize of the figure title"
   ]
  },
  {
   "cell_type": "code",
   "execution_count": 35,
   "metadata": {},
   "outputs": [],
   "source": [
    "def cm_analysis(y_true, y_pred, labels, ymap=None, figsize=(10,10), pct_dec=2, dpi=80):\n",
    "    \"\"\"\n",
    "    Generate matrix plot of confusion matrix with pretty annotations.\n",
    "    The plot image is saved to disk.\n",
    "    args: \n",
    "      y_true:    true label of the data, with shape (nsamples,)\n",
    "      y_pred:    prediction of the data, with shape (nsamples,)\n",
    "      labels:    string array, name the order of class labels in the confusion matrix.\n",
    "                 use `clf.classes_` if using scikit-learn models.\n",
    "                 with shape (nclass,).\n",
    "      ymap:      dict: any -> string, length == nclass.\n",
    "                 if not None, map the labels & ys to more understandable strings.\n",
    "                 Caution: original y_true, y_pred and labels must align.\n",
    "      figsize:   the size of the figure plotted.\n",
    "    \"\"\"\n",
    "    \n",
    "    if ymap is not None:\n",
    "        y_pred = [ymap[yi] for yi in y_pred]\n",
    "        y_true = [ymap[yi] for yi in y_true]\n",
    "        labels = [ymap[yi] for yi in labels]\n",
    "    cm = confusion_matrix(y_true, y_pred, labels=labels)\n",
    "    cm_sum = np.sum(cm, axis=1, keepdims=True)\n",
    "    cm_perc = cm / cm_sum.astype(float) * 100\n",
    "    annot = np.empty_like(cm).astype(str)\n",
    "    nrows, ncols = cm.shape\n",
    "    for i in range(nrows):\n",
    "        for j in range(ncols):\n",
    "            c = cm[i, j]\n",
    "            p = cm_perc[i, j]\n",
    "            if i == j:\n",
    "                s = cm_sum[i]\n",
    "                annot[i, j] = '%.{}f%%\\n%d/%d'.format(pct_dec) % (p, c, s)\n",
    "            elif c == 0:\n",
    "                annot[i, j] = ''\n",
    "            else:\n",
    "                annot[i, j] = '%.{}f%%\\n%d'.format(pct_dec) % (p, c)\n",
    "    cm_perc = pd.DataFrame(cm_perc, index=labels, columns=labels)\n",
    "    cm_perc.index.name = 'Actual'\n",
    "    cm_perc.columns.name = 'Predicted'\n",
    "    fig, ax = plt.subplots(figsize=figsize)\n",
    "    sns.heatmap(cm_perc, annot=annot, fmt='', ax=ax, square = True, cmap = 'PuBu', cbar_kws = {'label':'Percentage'}, vmin = 0, vmax = 100) # Change cm_perc to cm if coloring is by %\n",
    "    fig.set_dpi(dpi)\n",
    "    \n",
    "    plt.show()"
   ]
  },
  {
   "cell_type": "markdown",
   "metadata": {},
   "source": [
    "### Load and Preprocess Data"
   ]
  },
  {
   "cell_type": "markdown",
   "metadata": {},
   "source": [
    "We will modeling [Amazon Reviews](https://s3.amazonaws.com/amazon-reviews-pds/tsv/index.txt), using only 100,000 reviews from the **Wireless** category so that we have a relatively 'small' dataset.<br>\n",
    "The **classification/sentiment analysis task**: given an Amazon review (review headline + review body), predict the star rating from 1-5."
   ]
  },
  {
   "cell_type": "code",
   "execution_count": 2,
   "metadata": {},
   "outputs": [],
   "source": [
    "df_amazon = pd.read_csv('data/text/amazon_reviews_us_Wireless_v1_00.tsv.gz',\n",
    "                        sep='\\t',\n",
    "                        compression='gzip',\n",
    "                        usecols=['review_headline','review_body','star_rating'],\n",
    "                        error_bad_lines=False,\n",
    "                        warn_bad_lines=False)\n",
    "df_amazon = df_amazon.dropna()\n",
    "df_amazon = df_amazon.sample(100000, random_state=2020)"
   ]
  },
  {
   "cell_type": "markdown",
   "metadata": {},
   "source": [
    "Let's perform some preprocessing:\n",
    "- remove punctuation marks\n",
    "- replace whitespace and '-' or '/' characters with spaces\n",
    "- convert star ratings to integer"
   ]
  },
  {
   "cell_type": "code",
   "execution_count": 3,
   "metadata": {},
   "outputs": [],
   "source": [
    "REPLACE_NO_SPACE = re.compile(\"[.;:!\\'?,\\\"()\\[\\]]\")\n",
    "REPLACE_WITH_SPACE = re.compile(\"(<br\\s*/><br\\s*/>)|(\\-)|(\\/)\")\n",
    "\n",
    "def preprocess_reviews(reviews):\n",
    "    reviews = [REPLACE_NO_SPACE.sub(\"\", line.lower()) for line in reviews]\n",
    "    reviews = [REPLACE_WITH_SPACE.sub(\" \", line) for line in reviews]\n",
    "    return reviews\n",
    "\n",
    "df_amazon.loc[:,'review'] = df_amazon['review_headline'] + ' ' + df_amazon['review_body']\n",
    "df_amazon.loc[:,'review'] = preprocess_reviews(df_amazon.review)\n",
    "df_amazon.loc[:,'star_rating'] = df_amazon.star_rating.astype(int)"
   ]
  },
  {
   "cell_type": "code",
   "execution_count": 42,
   "metadata": {},
   "outputs": [
    {
     "data": {
      "text/html": [
       "<div>\n",
       "<style scoped>\n",
       "    .dataframe tbody tr th:only-of-type {\n",
       "        vertical-align: middle;\n",
       "    }\n",
       "\n",
       "    .dataframe tbody tr th {\n",
       "        vertical-align: top;\n",
       "    }\n",
       "\n",
       "    .dataframe thead th {\n",
       "        text-align: right;\n",
       "    }\n",
       "</style>\n",
       "<table border=\"1\" class=\"dataframe\">\n",
       "  <thead>\n",
       "    <tr style=\"text-align: right;\">\n",
       "      <th></th>\n",
       "      <th>star_rating</th>\n",
       "      <th>review_headline</th>\n",
       "      <th>review_body</th>\n",
       "      <th>review</th>\n",
       "    </tr>\n",
       "  </thead>\n",
       "  <tbody>\n",
       "    <tr>\n",
       "      <td>1792302</td>\n",
       "      <td>5</td>\n",
       "      <td>Five Stars</td>\n",
       "      <td>Thanks, this is a true value.  Stylus is short...</td>\n",
       "      <td>five stars thanks this is a true value  stylus...</td>\n",
       "    </tr>\n",
       "    <tr>\n",
       "      <td>7967590</td>\n",
       "      <td>5</td>\n",
       "      <td>grandaughter loves it</td>\n",
       "      <td>This is the second phone case I bought for my ...</td>\n",
       "      <td>grandaughter loves it this is the second phone...</td>\n",
       "    </tr>\n",
       "    <tr>\n",
       "      <td>6647536</td>\n",
       "      <td>1</td>\n",
       "      <td>screen and body</td>\n",
       "      <td>Not the greatest screen protector but for .99 ...</td>\n",
       "      <td>screen and body not the greatest screen protec...</td>\n",
       "    </tr>\n",
       "    <tr>\n",
       "      <td>6414044</td>\n",
       "      <td>4</td>\n",
       "      <td>its ok</td>\n",
       "      <td>Im very pleased with the product it does it jo...</td>\n",
       "      <td>its ok im very pleased with the product it doe...</td>\n",
       "    </tr>\n",
       "    <tr>\n",
       "      <td>7701488</td>\n",
       "      <td>5</td>\n",
       "      <td>A++</td>\n",
       "      <td>+ + + + + LOVE THIS PRODUCT IT'S AMAZING + + +...</td>\n",
       "      <td>a++ + + + + + love this product its amazing + ...</td>\n",
       "    </tr>\n",
       "    <tr>\n",
       "      <td>2437007</td>\n",
       "      <td>5</td>\n",
       "      <td>Love it!</td>\n",
       "      <td>I love it, works perfect. You can see on this ...</td>\n",
       "      <td>love it i love it works perfect you can see on...</td>\n",
       "    </tr>\n",
       "    <tr>\n",
       "      <td>6735977</td>\n",
       "      <td>4</td>\n",
       "      <td>Polka dot gel case</td>\n",
       "      <td>It's very cute. Easy to get off and on. I like...</td>\n",
       "      <td>polka dot gel case its very cute easy to get o...</td>\n",
       "    </tr>\n",
       "    <tr>\n",
       "      <td>5885602</td>\n",
       "      <td>5</td>\n",
       "      <td>My items I purchased</td>\n",
       "      <td>I loved this case and it fits real well on my ...</td>\n",
       "      <td>my items i purchased i loved this case and it ...</td>\n",
       "    </tr>\n",
       "    <tr>\n",
       "      <td>1546974</td>\n",
       "      <td>5</td>\n",
       "      <td>Love the colors</td>\n",
       "      <td>Love the colors!  Offers a secure connection w...</td>\n",
       "      <td>love the colors love the colors  offers a secu...</td>\n",
       "    </tr>\n",
       "    <tr>\n",
       "      <td>3278886</td>\n",
       "      <td>2</td>\n",
       "      <td>Two Stars</td>\n",
       "      <td>It did not fit properly in my car.</td>\n",
       "      <td>two stars it did not fit properly in my car</td>\n",
       "    </tr>\n",
       "  </tbody>\n",
       "</table>\n",
       "</div>"
      ],
      "text/plain": [
       "         star_rating        review_headline  \\\n",
       "1792302            5             Five Stars   \n",
       "7967590            5  grandaughter loves it   \n",
       "6647536            1        screen and body   \n",
       "6414044            4                 its ok   \n",
       "7701488            5                    A++   \n",
       "2437007            5               Love it!   \n",
       "6735977            4     Polka dot gel case   \n",
       "5885602            5   My items I purchased   \n",
       "1546974            5        Love the colors   \n",
       "3278886            2              Two Stars   \n",
       "\n",
       "                                               review_body  \\\n",
       "1792302  Thanks, this is a true value.  Stylus is short...   \n",
       "7967590  This is the second phone case I bought for my ...   \n",
       "6647536  Not the greatest screen protector but for .99 ...   \n",
       "6414044  Im very pleased with the product it does it jo...   \n",
       "7701488  + + + + + LOVE THIS PRODUCT IT'S AMAZING + + +...   \n",
       "2437007  I love it, works perfect. You can see on this ...   \n",
       "6735977  It's very cute. Easy to get off and on. I like...   \n",
       "5885602  I loved this case and it fits real well on my ...   \n",
       "1546974  Love the colors!  Offers a secure connection w...   \n",
       "3278886                 It did not fit properly in my car.   \n",
       "\n",
       "                                                    review  \n",
       "1792302  five stars thanks this is a true value  stylus...  \n",
       "7967590  grandaughter loves it this is the second phone...  \n",
       "6647536  screen and body not the greatest screen protec...  \n",
       "6414044  its ok im very pleased with the product it doe...  \n",
       "7701488  a++ + + + + + love this product its amazing + ...  \n",
       "2437007  love it i love it works perfect you can see on...  \n",
       "6735977  polka dot gel case its very cute easy to get o...  \n",
       "5885602  my items i purchased i loved this case and it ...  \n",
       "1546974  love the colors love the colors  offers a secu...  \n",
       "3278886        two stars it did not fit properly in my car  "
      ]
     },
     "execution_count": 42,
     "metadata": {},
     "output_type": "execute_result"
    }
   ],
   "source": [
    "df_amazon.sample(10, random_state=2020)"
   ]
  },
  {
   "cell_type": "code",
   "execution_count": 64,
   "metadata": {},
   "outputs": [
    {
     "data": {
      "text/html": [
       "<style  type=\"text/css\" >\n",
       "</style><table id=\"T_52ea1f26_dacb_11ea_8e2b_0c5415741296\" ><thead>    <tr>        <th class=\"blank level0\" ></th>        <th class=\"col_heading level0 col0\" >Count</th>        <th class=\"col_heading level0 col1\" >Percent</th>    </tr></thead><tbody>\n",
       "                <tr>\n",
       "                        <th id=\"T_52ea1f26_dacb_11ea_8e2b_0c5415741296level0_row0\" class=\"row_heading level0 row0\" >1</th>\n",
       "                        <td id=\"T_52ea1f26_dacb_11ea_8e2b_0c5415741296row0_col0\" class=\"data row0 col0\" >13906</td>\n",
       "                        <td id=\"T_52ea1f26_dacb_11ea_8e2b_0c5415741296row0_col1\" class=\"data row0 col1\" >14%</td>\n",
       "            </tr>\n",
       "            <tr>\n",
       "                        <th id=\"T_52ea1f26_dacb_11ea_8e2b_0c5415741296level0_row1\" class=\"row_heading level0 row1\" >2</th>\n",
       "                        <td id=\"T_52ea1f26_dacb_11ea_8e2b_0c5415741296row1_col0\" class=\"data row1 col0\" >6474</td>\n",
       "                        <td id=\"T_52ea1f26_dacb_11ea_8e2b_0c5415741296row1_col1\" class=\"data row1 col1\" >6%</td>\n",
       "            </tr>\n",
       "            <tr>\n",
       "                        <th id=\"T_52ea1f26_dacb_11ea_8e2b_0c5415741296level0_row2\" class=\"row_heading level0 row2\" >3</th>\n",
       "                        <td id=\"T_52ea1f26_dacb_11ea_8e2b_0c5415741296row2_col0\" class=\"data row2 col0\" >8967</td>\n",
       "                        <td id=\"T_52ea1f26_dacb_11ea_8e2b_0c5415741296row2_col1\" class=\"data row2 col1\" >9%</td>\n",
       "            </tr>\n",
       "            <tr>\n",
       "                        <th id=\"T_52ea1f26_dacb_11ea_8e2b_0c5415741296level0_row3\" class=\"row_heading level0 row3\" >4</th>\n",
       "                        <td id=\"T_52ea1f26_dacb_11ea_8e2b_0c5415741296row3_col0\" class=\"data row3 col0\" >16962</td>\n",
       "                        <td id=\"T_52ea1f26_dacb_11ea_8e2b_0c5415741296row3_col1\" class=\"data row3 col1\" >17%</td>\n",
       "            </tr>\n",
       "            <tr>\n",
       "                        <th id=\"T_52ea1f26_dacb_11ea_8e2b_0c5415741296level0_row4\" class=\"row_heading level0 row4\" >5</th>\n",
       "                        <td id=\"T_52ea1f26_dacb_11ea_8e2b_0c5415741296row4_col0\" class=\"data row4 col0\" >53691</td>\n",
       "                        <td id=\"T_52ea1f26_dacb_11ea_8e2b_0c5415741296row4_col1\" class=\"data row4 col1\" >54%</td>\n",
       "            </tr>\n",
       "    </tbody></table>"
      ],
      "text/plain": [
       "<pandas.io.formats.style.Styler at 0x1ac20c37848>"
      ]
     },
     "execution_count": 64,
     "metadata": {},
     "output_type": "execute_result"
    }
   ],
   "source": [
    "df_ct_pct = pd.concat([df_amazon.star_rating.value_counts().rename('Count'),\n",
    "                       df_amazon.star_rating.value_counts(normalize=True).rename('Percent')*100], axis=1)\n",
    "df_ct_pct.sort_index().style.format({'Percent':'{:.0f}%'})"
   ]
  },
  {
   "cell_type": "markdown",
   "metadata": {},
   "source": [
    "### Modeling"
   ]
  },
  {
   "cell_type": "markdown",
   "metadata": {},
   "source": [
    "We import functions from the `fastai.text` module."
   ]
  },
  {
   "cell_type": "code",
   "execution_count": 5,
   "metadata": {},
   "outputs": [],
   "source": [
    "from fastai.text import *"
   ]
  },
  {
   "cell_type": "markdown",
   "metadata": {},
   "source": [
    "Let's split our data into training and validation sets. We'll use the validation set for final evaluation."
   ]
  },
  {
   "cell_type": "code",
   "execution_count": 6,
   "metadata": {},
   "outputs": [],
   "source": [
    "df_train, df_val = train_test_split(df_amazon,\n",
    "                                    test_size=0.2,\n",
    "                                    random_state=2020,\n",
    "                                    stratify=df_amazon.star_rating)"
   ]
  },
  {
   "cell_type": "markdown",
   "metadata": {},
   "source": [
    "#### Create a Language Model"
   ]
  },
  {
   "cell_type": "markdown",
   "metadata": {},
   "source": [
    "We'll be using a pretrained model for our dataset.<br>\n",
    "However, we still need to **tune our model to our specific vocabulary**. That's where making a **Language Model** comes in. Essentially, a language model takes in a phrase, and tries to guess the next few words. We're **not yet predicting star ratings** in this step; we're simply letting our model get to know the vocabulary of our corpus.<br>\n",
    "\n",
    "Let's create a `DataBunch`, creating a 20% holdout set from the training set for validation.<br>\n",
    "You may notice the function `.label_for_lm()` - this means to create labels for our language model."
   ]
  },
  {
   "cell_type": "code",
   "execution_count": 7,
   "metadata": {
    "scrolled": true
   },
   "outputs": [
    {
     "data": {
      "text/html": [],
      "text/plain": [
       "<IPython.core.display.HTML object>"
      ]
     },
     "metadata": {},
     "output_type": "display_data"
    },
    {
     "data": {
      "text/html": [],
      "text/plain": [
       "<IPython.core.display.HTML object>"
      ]
     },
     "metadata": {},
     "output_type": "display_data"
    },
    {
     "data": {
      "text/html": [
       "<table border=\"1\" class=\"dataframe\">\n",
       "  <thead>\n",
       "    <tr style=\"text-align: right;\">\n",
       "      <th>idx</th>\n",
       "      <th>text</th>\n",
       "    </tr>\n",
       "  </thead>\n",
       "  <tbody>\n",
       "    <tr>\n",
       "      <td>0</td>\n",
       "      <td>feel and overall quality of the whole case everything is where it should be and i never forget my credit card or i d xxunk leather only feels better after a few days of being broken in and the slim that accompanies it is great because it does nt obstruct side swipe at all and allows for the nexus design to be fully utilized clasp is totally unnecessary especially since</td>\n",
       "    </tr>\n",
       "    <tr>\n",
       "      <td>1</td>\n",
       "      <td>iphone holder specially that it fits my otterbox case &lt; br &gt; i use it every day on my motorcycle xxbos new battery this was exactly what we needed but could nt get at our local cell phone store the old battery would not hold a charge for even a day we were excited that the new battery came fully charged and ready to be put in the phone will</td>\n",
       "    </tr>\n",
       "    <tr>\n",
       "      <td>2</td>\n",
       "      <td>this the other usual con is that there is no removable face plate ill be honest this one hurt but i had a very hard time finding another radio with removable face place at a similar price point that worked with spotify so ill settle for it that brings me to the pros as i mentioned above this works with spotify and pandora which is excellent the unit comes with</td>\n",
       "    </tr>\n",
       "    <tr>\n",
       "      <td>3</td>\n",
       "      <td>times downloaded the latest maps contrary to amazons comment about having the latest software and reset again so far so good but it has been only a day or so if the problem returns i will return it for another brand as a side note the garmin website is only fair so far they have nt replied to my question sent to their help desk my recommendation proceed with caution</td>\n",
       "    </tr>\n",
       "    <tr>\n",
       "      <td>4</td>\n",
       "      <td>sure why the description of this product does nt mention that it carries both the cable was actually about 5 1 \\ \\ which means you have a little extra length there the cable itself it a bit thicker than a micro hdmi to hdmi cable i have from another company but its not a make or break sort of difference xxbos put it anywhere i love it great product</td>\n",
       "    </tr>\n",
       "  </tbody>\n",
       "</table>"
      ],
      "text/plain": [
       "<IPython.core.display.HTML object>"
      ]
     },
     "metadata": {},
     "output_type": "display_data"
    }
   ],
   "source": [
    "data = (TextList.from_df(df_amazon, cols='review')\n",
    "       .split_by_rand_pct(0.2, seed=2020)\n",
    "       .label_for_lm()\n",
    "       .databunch(bs=32))\n",
    "data.show_batch()"
   ]
  },
  {
   "cell_type": "markdown",
   "metadata": {},
   "source": [
    "We then create a `language_model_learner`, using the `AWD_LSTM` pretrained model.<br>\n",
    "We fit one cycle over 10 epochs. Note that we're only training the last layer of our model in this step."
   ]
  },
  {
   "cell_type": "code",
   "execution_count": 27,
   "metadata": {},
   "outputs": [
    {
     "data": {
      "text/html": [
       "<table border=\"1\" class=\"dataframe\">\n",
       "  <thead>\n",
       "    <tr style=\"text-align: left;\">\n",
       "      <th>epoch</th>\n",
       "      <th>train_loss</th>\n",
       "      <th>valid_loss</th>\n",
       "      <th>accuracy</th>\n",
       "      <th>time</th>\n",
       "    </tr>\n",
       "  </thead>\n",
       "  <tbody>\n",
       "    <tr>\n",
       "      <td>0</td>\n",
       "      <td>4.566915</td>\n",
       "      <td>4.403250</td>\n",
       "      <td>0.214291</td>\n",
       "      <td>06:07</td>\n",
       "    </tr>\n",
       "    <tr>\n",
       "      <td>1</td>\n",
       "      <td>4.252519</td>\n",
       "      <td>4.160347</td>\n",
       "      <td>0.236389</td>\n",
       "      <td>06:09</td>\n",
       "    </tr>\n",
       "    <tr>\n",
       "      <td>2</td>\n",
       "      <td>4.200518</td>\n",
       "      <td>4.098262</td>\n",
       "      <td>0.242405</td>\n",
       "      <td>06:09</td>\n",
       "    </tr>\n",
       "    <tr>\n",
       "      <td>3</td>\n",
       "      <td>4.146877</td>\n",
       "      <td>4.075602</td>\n",
       "      <td>0.244574</td>\n",
       "      <td>06:10</td>\n",
       "    </tr>\n",
       "    <tr>\n",
       "      <td>4</td>\n",
       "      <td>4.078557</td>\n",
       "      <td>4.061365</td>\n",
       "      <td>0.246053</td>\n",
       "      <td>06:11</td>\n",
       "    </tr>\n",
       "    <tr>\n",
       "      <td>5</td>\n",
       "      <td>4.039335</td>\n",
       "      <td>4.050590</td>\n",
       "      <td>0.247892</td>\n",
       "      <td>06:09</td>\n",
       "    </tr>\n",
       "    <tr>\n",
       "      <td>6</td>\n",
       "      <td>4.028378</td>\n",
       "      <td>4.042146</td>\n",
       "      <td>0.248613</td>\n",
       "      <td>06:09</td>\n",
       "    </tr>\n",
       "    <tr>\n",
       "      <td>7</td>\n",
       "      <td>3.969337</td>\n",
       "      <td>4.035912</td>\n",
       "      <td>0.249497</td>\n",
       "      <td>06:09</td>\n",
       "    </tr>\n",
       "    <tr>\n",
       "      <td>8</td>\n",
       "      <td>3.936812</td>\n",
       "      <td>4.033516</td>\n",
       "      <td>0.250018</td>\n",
       "      <td>06:09</td>\n",
       "    </tr>\n",
       "    <tr>\n",
       "      <td>9</td>\n",
       "      <td>3.927001</td>\n",
       "      <td>4.033215</td>\n",
       "      <td>0.250072</td>\n",
       "      <td>06:09</td>\n",
       "    </tr>\n",
       "  </tbody>\n",
       "</table>"
      ],
      "text/plain": [
       "<IPython.core.display.HTML object>"
      ]
     },
     "metadata": {},
     "output_type": "display_data"
    }
   ],
   "source": [
    "learn = language_model_learner(data, AWD_LSTM, drop_mult=0.3)\n",
    "learn.model.cuda()\n",
    "learn.fit_one_cycle(10)\n",
    "learn.save_encoder('enc-stage-1')"
   ]
  },
  {
   "cell_type": "markdown",
   "metadata": {},
   "source": [
    "We then unfreeze our model weights so that we can train all layers, and do some more fine-tuning over 5 epochs."
   ]
  },
  {
   "cell_type": "code",
   "execution_count": 28,
   "metadata": {},
   "outputs": [
    {
     "data": {
      "text/html": [
       "\n",
       "    <div>\n",
       "        <style>\n",
       "            /* Turns off some styling */\n",
       "            progress {\n",
       "                /* gets rid of default border in Firefox and Opera. */\n",
       "                border: none;\n",
       "                /* Needs to be in here for Safari polyfill so background images work as expected. */\n",
       "                background-size: auto;\n",
       "            }\n",
       "            .progress-bar-interrupted, .progress-bar-interrupted::-webkit-progress-bar {\n",
       "                background: #F44336;\n",
       "            }\n",
       "        </style>\n",
       "      <progress value='0' class='' max='1', style='width:300px; height:20px; vertical-align: middle;'></progress>\n",
       "      0.00% [0/1 00:00<00:00]\n",
       "    </div>\n",
       "    \n",
       "<table border=\"1\" class=\"dataframe\">\n",
       "  <thead>\n",
       "    <tr style=\"text-align: left;\">\n",
       "      <th>epoch</th>\n",
       "      <th>train_loss</th>\n",
       "      <th>valid_loss</th>\n",
       "      <th>accuracy</th>\n",
       "      <th>time</th>\n",
       "    </tr>\n",
       "  </thead>\n",
       "  <tbody>\n",
       "  </tbody>\n",
       "</table><p>\n",
       "\n",
       "    <div>\n",
       "        <style>\n",
       "            /* Turns off some styling */\n",
       "            progress {\n",
       "                /* gets rid of default border in Firefox and Opera. */\n",
       "                border: none;\n",
       "                /* Needs to be in here for Safari polyfill so background images work as expected. */\n",
       "                background-size: auto;\n",
       "            }\n",
       "            .progress-bar-interrupted, .progress-bar-interrupted::-webkit-progress-bar {\n",
       "                background: #F44336;\n",
       "            }\n",
       "        </style>\n",
       "      <progress value='96' class='' max='1969', style='width:300px; height:20px; vertical-align: middle;'></progress>\n",
       "      4.88% [96/1969 00:20<06:43 14.9684]\n",
       "    </div>\n",
       "    "
      ],
      "text/plain": [
       "<IPython.core.display.HTML object>"
      ]
     },
     "metadata": {},
     "output_type": "display_data"
    },
    {
     "name": "stdout",
     "output_type": "stream",
     "text": [
      "LR Finder is complete, type {learner_name}.recorder.plot() to see the graph.\n"
     ]
    },
    {
     "data": {
      "image/png": "[encoded data removed]",
      "text/plain": [
       "<Figure size 432x288 with 1 Axes>"
      ]
     },
     "metadata": {
      "needs_background": "light"
     },
     "output_type": "display_data"
    }
   ],
   "source": [
    "learn.unfreeze()\n",
    "learn.lr_find()\n",
    "learn.recorder.plot()"
   ]
  },
  {
   "cell_type": "code",
   "execution_count": 29,
   "metadata": {},
   "outputs": [
    {
     "data": {
      "text/html": [
       "<table border=\"1\" class=\"dataframe\">\n",
       "  <thead>\n",
       "    <tr style=\"text-align: left;\">\n",
       "      <th>epoch</th>\n",
       "      <th>train_loss</th>\n",
       "      <th>valid_loss</th>\n",
       "      <th>accuracy</th>\n",
       "      <th>time</th>\n",
       "    </tr>\n",
       "  </thead>\n",
       "  <tbody>\n",
       "    <tr>\n",
       "      <td>0</td>\n",
       "      <td>3.823978</td>\n",
       "      <td>3.927802</td>\n",
       "      <td>0.261936</td>\n",
       "      <td>07:46</td>\n",
       "    </tr>\n",
       "    <tr>\n",
       "      <td>1</td>\n",
       "      <td>3.772147</td>\n",
       "      <td>3.845878</td>\n",
       "      <td>0.272774</td>\n",
       "      <td>07:48</td>\n",
       "    </tr>\n",
       "    <tr>\n",
       "      <td>2</td>\n",
       "      <td>3.686621</td>\n",
       "      <td>3.806515</td>\n",
       "      <td>0.278729</td>\n",
       "      <td>07:47</td>\n",
       "    </tr>\n",
       "    <tr>\n",
       "      <td>3</td>\n",
       "      <td>3.559509</td>\n",
       "      <td>3.792720</td>\n",
       "      <td>0.281248</td>\n",
       "      <td>07:48</td>\n",
       "    </tr>\n",
       "    <tr>\n",
       "      <td>4</td>\n",
       "      <td>3.515564</td>\n",
       "      <td>3.794920</td>\n",
       "      <td>0.281319</td>\n",
       "      <td>07:47</td>\n",
       "    </tr>\n",
       "  </tbody>\n",
       "</table>"
      ],
      "text/plain": [
       "<IPython.core.display.HTML object>"
      ]
     },
     "metadata": {},
     "output_type": "display_data"
    }
   ],
   "source": [
    "learn.fit_one_cycle(5, slice(1e-4, 1e-3))"
   ]
  },
  {
   "cell_type": "code",
   "execution_count": 30,
   "metadata": {},
   "outputs": [],
   "source": [
    "learn.save_encoder('enc-stage-2')"
   ]
  },
  {
   "cell_type": "code",
   "execution_count": 31,
   "metadata": {},
   "outputs": [
    {
     "name": "stdout",
     "output_type": "stream",
     "text": [
      "The product was delivered late but i noticed\n",
      "My shipment arrived on time and with a\n"
     ]
    }
   ],
   "source": [
    "learn = language_model_learner(data, AWD_LSTM, drop_mult=0.3)\n",
    "learn.load_encoder('enc-stage-2')\n",
    "print(learn.predict('The product was', 5))\n",
    "print(learn.predict('My shipment arrived', 5))"
   ]
  },
  {
   "cell_type": "markdown",
   "metadata": {},
   "source": [
    "#### Create a Classifier"
   ]
  },
  {
   "cell_type": "markdown",
   "metadata": {},
   "source": [
    "Now that we have a tuned language model, we move on to **creating a Classifier**.<br>\n",
    "We'll first create a `DataBunch` for our classification problem. Notice that the **syntax is pretty much the same**, except that we **now use our star ratings as the labels**."
   ]
  },
  {
   "cell_type": "code",
   "execution_count": 8,
   "metadata": {
    "scrolled": true
   },
   "outputs": [
    {
     "data": {
      "text/html": [],
      "text/plain": [
       "<IPython.core.display.HTML object>"
      ]
     },
     "metadata": {},
     "output_type": "display_data"
    },
    {
     "data": {
      "text/html": [],
      "text/plain": [
       "<IPython.core.display.HTML object>"
      ]
     },
     "metadata": {},
     "output_type": "display_data"
    },
    {
     "data": {
      "text/html": [],
      "text/plain": [
       "<IPython.core.display.HTML object>"
      ]
     },
     "metadata": {},
     "output_type": "display_data"
    },
    {
     "data": {
      "text/html": [
       "<table border=\"1\" class=\"dataframe\">\n",
       "  <thead>\n",
       "    <tr style=\"text-align: right;\">\n",
       "      <th>text</th>\n",
       "      <th>target</th>\n",
       "    </tr>\n",
       "  </thead>\n",
       "  <tbody>\n",
       "    <tr>\n",
       "      <td>xxbos a comfortable professional looking headset with a high quality microphone &amp; speaker exceptional value but not quite perfect for those wanting a short review &lt; br &gt; &lt; br &gt; this review has turned out to be the longest i have ever written so i thought a short version might be in order for those with limited attention spans … i mean limited time  simply put the speaker</td>\n",
       "      <td>5</td>\n",
       "    </tr>\n",
       "    <tr>\n",
       "      <td>xxbos current monitor results for nexus 7 tab galaxy nexus phone samsung galaxy 77 tablet and ipad mini xxunk 42 amp is a two usb ports wall charger with retractable prongs to test this external battery i used a current monitor in addition to the current monitor i also used a 10 minute charging test to provide a less abstract measurements of this charger these tests allow me to compare</td>\n",
       "      <td>5</td>\n",
       "    </tr>\n",
       "    <tr>\n",
       "      <td>xxbos happy update of my previous review it works like a dream now update the kindly people at snugg sent me a new case frankly i was nt real xxunk about it i figured it would probably still have the design flaws that made it a worthless $ 20 investment but i was wrong wrong wrong that will show me to stop being such a xxunk i could nt be</td>\n",
       "      <td>5</td>\n",
       "    </tr>\n",
       "    <tr>\n",
       "      <td>xxbos * * updated notes towards the end of original review * * nokia lumia 521 metropcs bought from amazon not 3rd party vendor first off i just want to say that i purchased this through amazon not a third party vendor so my experience with this item is probably slightly different than other reviews why buy from amazon and not a 3rd party vendor well after reading some of</td>\n",
       "      <td>4</td>\n",
       "    </tr>\n",
       "    <tr>\n",
       "      <td>xxbos good for working people not for everyone nice sound was sent a wrong color my first impression is this is a really nice looking and high quality earphone but its not for everyone it was nt for me especially i bought these earphones because nowadays i m trying to go wireless on all my computer accessories i hate wires i do nt workout at all most of the time</td>\n",
       "      <td>3</td>\n",
       "    </tr>\n",
       "  </tbody>\n",
       "</table>"
      ],
      "text/plain": [
       "<IPython.core.display.HTML object>"
      ]
     },
     "metadata": {},
     "output_type": "display_data"
    }
   ],
   "source": [
    "val_data = TextList.from_df(df_val, cols='review', vocab=data.vocab)\n",
    "\n",
    "data_clas = (TextList.from_df(df_train, cols='review', vocab=data.vocab)\n",
    "       .split_by_rand_pct(0.2, seed=2020)\n",
    "       .label_from_df(cols='star_rating')\n",
    "       .add_test(val_data)\n",
    "       .databunch(bs=32))\n",
    "\n",
    "data_clas.show_batch()"
   ]
  },
  {
   "cell_type": "code",
   "execution_count": 32,
   "metadata": {
    "scrolled": false
   },
   "outputs": [
    {
     "data": {
      "text/html": [
       "<table border=\"1\" class=\"dataframe\">\n",
       "  <thead>\n",
       "    <tr style=\"text-align: left;\">\n",
       "      <th>epoch</th>\n",
       "      <th>train_loss</th>\n",
       "      <th>valid_loss</th>\n",
       "      <th>accuracy</th>\n",
       "      <th>time</th>\n",
       "    </tr>\n",
       "  </thead>\n",
       "  <tbody>\n",
       "    <tr>\n",
       "      <td>0</td>\n",
       "      <td>0.847336</td>\n",
       "      <td>0.695352</td>\n",
       "      <td>0.725250</td>\n",
       "      <td>04:07</td>\n",
       "    </tr>\n",
       "    <tr>\n",
       "      <td>1</td>\n",
       "      <td>0.815760</td>\n",
       "      <td>0.653389</td>\n",
       "      <td>0.747312</td>\n",
       "      <td>8:30:19</td>\n",
       "    </tr>\n",
       "    <tr>\n",
       "      <td>2</td>\n",
       "      <td>0.801872</td>\n",
       "      <td>0.648235</td>\n",
       "      <td>0.752437</td>\n",
       "      <td>04:05</td>\n",
       "    </tr>\n",
       "    <tr>\n",
       "      <td>3</td>\n",
       "      <td>0.803606</td>\n",
       "      <td>0.642513</td>\n",
       "      <td>0.748062</td>\n",
       "      <td>04:04</td>\n",
       "    </tr>\n",
       "    <tr>\n",
       "      <td>4</td>\n",
       "      <td>0.754694</td>\n",
       "      <td>0.626177</td>\n",
       "      <td>0.754125</td>\n",
       "      <td>04:13</td>\n",
       "    </tr>\n",
       "    <tr>\n",
       "      <td>5</td>\n",
       "      <td>0.715627</td>\n",
       "      <td>0.628537</td>\n",
       "      <td>0.753313</td>\n",
       "      <td>03:59</td>\n",
       "    </tr>\n",
       "    <tr>\n",
       "      <td>6</td>\n",
       "      <td>0.699694</td>\n",
       "      <td>0.621820</td>\n",
       "      <td>0.759562</td>\n",
       "      <td>03:57</td>\n",
       "    </tr>\n",
       "    <tr>\n",
       "      <td>7</td>\n",
       "      <td>0.744746</td>\n",
       "      <td>0.619439</td>\n",
       "      <td>0.757563</td>\n",
       "      <td>03:58</td>\n",
       "    </tr>\n",
       "    <tr>\n",
       "      <td>8</td>\n",
       "      <td>0.722054</td>\n",
       "      <td>0.621591</td>\n",
       "      <td>0.758563</td>\n",
       "      <td>04:02</td>\n",
       "    </tr>\n",
       "    <tr>\n",
       "      <td>9</td>\n",
       "      <td>0.747256</td>\n",
       "      <td>0.615466</td>\n",
       "      <td>0.759625</td>\n",
       "      <td>04:01</td>\n",
       "    </tr>\n",
       "  </tbody>\n",
       "</table>"
      ],
      "text/plain": [
       "<IPython.core.display.HTML object>"
      ]
     },
     "metadata": {},
     "output_type": "display_data"
    },
    {
     "data": {
      "text/html": [
       "<table border=\"1\" class=\"dataframe\">\n",
       "  <thead>\n",
       "    <tr style=\"text-align: right;\">\n",
       "      <th>text</th>\n",
       "      <th>target</th>\n",
       "      <th>prediction</th>\n",
       "    </tr>\n",
       "  </thead>\n",
       "  <tbody>\n",
       "    <tr>\n",
       "      <td>xxbos a nice phone but some drawbacks i got a chance to play around with an htc one m9 for the last couple of days i am a complete phone nerd and a recognized xxunk on xda developers where all kinds of android phone modifications are developed and discussed if that means anything to you so when i get a chance to play around with a new phone i jump</td>\n",
       "      <td>4</td>\n",
       "      <td>3</td>\n",
       "    </tr>\n",
       "    <tr>\n",
       "      <td>xxbos a great radar detector update feb 23 2014 &lt; br &gt; xxrep 19 _ i thought it only fair to update this review escort did rma my detector and replaced the gps chip in it i was without for xxunk 3 weeks but now i m using it daily since mid january and i can say it has performed excellently i love the auto xxunk of false alarms and</td>\n",
       "      <td>4</td>\n",
       "      <td>1</td>\n",
       "    </tr>\n",
       "    <tr>\n",
       "      <td>xxbos great unit for great price so far i have had this unit in for 1 day in my truck and i can tell you that the sound improvement over the stock system is nothing short of amazing for starters i have a 2006 gmc sierra it comes with the gm head unit onstar integrated and the bose amplifier for those in a similar situation as i you will have</td>\n",
       "      <td>5</td>\n",
       "      <td>5</td>\n",
       "    </tr>\n",
       "    <tr>\n",
       "      <td>xxbos makes iphone bulky but definitely is well protected i bought a factory unlocked iphone 4 and lets just say it was not cheap $ 1k coupled with the fact that i have a 15 month old son and a little clumsy well i definitely wanted to have my iphone super duper protected i ordered from amazon and had the free shipping amazon is great i got it relatively fast</td>\n",
       "      <td>5</td>\n",
       "      <td>4</td>\n",
       "    </tr>\n",
       "    <tr>\n",
       "      <td>xxbos ampen new hybrid stylus an updated product that works well using a stylus with various devices can be highly subjective but when you find one that works well for you its hard to do without it this one is a good example of taking a first rate product and making subtle improvements to make it truly excellent the xxunk ampen new hybrid stylus silver is an example of product</td>\n",
       "      <td>5</td>\n",
       "      <td>5</td>\n",
       "    </tr>\n",
       "  </tbody>\n",
       "</table>"
      ],
      "text/plain": [
       "<IPython.core.display.HTML object>"
      ]
     },
     "metadata": {},
     "output_type": "display_data"
    }
   ],
   "source": [
    "learn_classifier = text_classifier_learner(data_clas, AWD_LSTM, drop_mult=0.5)\n",
    "learn_classifier.load_encoder('enc-stage-2')\n",
    "learn_classifier.freeze()\n",
    "learn_classifier.fit_one_cycle(10)\n",
    "learn_classifier.show_results()"
   ]
  },
  {
   "cell_type": "code",
   "execution_count": 33,
   "metadata": {},
   "outputs": [],
   "source": [
    "learn_classifier.save('sentiment-stage-1')"
   ]
  },
  {
   "cell_type": "code",
   "execution_count": 131,
   "metadata": {},
   "outputs": [
    {
     "data": {
      "text/plain": [
       "RNNLearner(data=TextClasDataBunch;\n",
       "\n",
       "Train: LabelList (64000 items)\n",
       "x: TextList\n",
       "xxbos good stuff i like the ease of use it is good for my needs i really like it a lot and would buy another,xxbos i recommend this phone on a scale from 1 to 10 i rate this phone a 9 i have been using this phone for about two weeks and i m enjoying everything about this phone from looks to functions i have purchase many similar phones blu alcatel and so on and this one holds its own against them and many others if your were to ask me the only reason i would say i d give it a 9 is that the loud speaker could be a tad louder because if you are in a noisey environment you may need your headphones all and all this is a perfect phone call quality wifi bluetooth pictures all perfect,xxbos great product very sturdy and does everything the ad says it does < br > best price was found at amazon < br > highly recommend it for i phones,xxbos work great in beginning but mount gets loose and can not remove worked great in the beginning however after a few months the mount got loose every bump will cause the phone angle to change making it impossible to use as a gps mount despite the fact that it stopped working i left the mount on my car i recently attempted to remove it from my dash however the bottom piece adhesive does not want to come off i m afraid that if i apply force to remove it it will damage the car,xxbos five stars great product i was able to remove and re apply it with no problem\n",
       "y: CategoryList\n",
       "5,5,5,1,5\n",
       "Path: .;\n",
       "\n",
       "Valid: LabelList (16000 items)\n",
       "x: TextList\n",
       "xxbos five stars in perfect condition works good for me,xxbos five stars good product,xxbos but it sounds great and it has some really great features updated review i originally gave three stars due to not being able to get the feature of playing movies from usb memory stick but after a week of asking others users i got it to work so my only complaints with this stereo is that the church instructions for usb memory stick playing needs to be more detailed but it sounds great and it has some really great features it looks good also oh in order to pay movies from usb memory stick the movies had to be in meg 1 or 2 format and converted at 720 x 480 pixels and no more than 40 mbps,xxbos works but a pain to get sorted i got this to hook a gps to my xxunk se xxunk board and although this works its a pain to program all the different 3 parts i do recommend this board though,xxbos the case was horrible when i tried to put it on the the case was horrible when i tried to put it on the phone the case was nt easier to separate i tried to take the case off and it was so stuck the case broke worst case on earth\n",
       "y: CategoryList\n",
       "5,5,4,4,1\n",
       "Path: .;\n",
       "\n",
       "Test: LabelList (20000 items)\n",
       "x: TextList\n",
       "xxbos four stars skin fits great we love them,xxbos beware xxrep 4 * does not work i connected it and nothing happend very disappointed,xxbos five stars good,xxbos does not work for blackberry this item does not have the xxunk that makes that the blackberry display should turn off once its inserted into the holster so its kinda useless,xxbos but i do like it so far i have nt used it that much but i do like it so far it charges my phone quickly and i like the fact that it lets me know how much juice it has thanks\n",
       "y: EmptyLabelList\n",
       ",,,,\n",
       "Path: ., model=SequentialRNN(\n",
       "  (0): MultiBatchEncoder(\n",
       "    (module): AWD_LSTM(\n",
       "      (encoder): Embedding(16816, 400, padding_idx=1)\n",
       "      (encoder_dp): EmbeddingDropout(\n",
       "        (emb): Embedding(16816, 400, padding_idx=1)\n",
       "      )\n",
       "      (rnns): ModuleList(\n",
       "        (0): WeightDropout(\n",
       "          (module): LSTM(400, 1152, batch_first=True)\n",
       "        )\n",
       "        (1): WeightDropout(\n",
       "          (module): LSTM(1152, 1152, batch_first=True)\n",
       "        )\n",
       "        (2): WeightDropout(\n",
       "          (module): LSTM(1152, 400, batch_first=True)\n",
       "        )\n",
       "      )\n",
       "      (input_dp): RNNDropout()\n",
       "      (hidden_dps): ModuleList(\n",
       "        (0): RNNDropout()\n",
       "        (1): RNNDropout()\n",
       "        (2): RNNDropout()\n",
       "      )\n",
       "    )\n",
       "  )\n",
       "  (1): PoolingLinearClassifier(\n",
       "    (layers): Sequential(\n",
       "      (0): BatchNorm1d(1200, eps=1e-05, momentum=0.1, affine=True, track_running_stats=True)\n",
       "      (1): Dropout(p=0.2, inplace=False)\n",
       "      (2): Linear(in_features=1200, out_features=50, bias=True)\n",
       "      (3): ReLU(inplace=True)\n",
       "      (4): BatchNorm1d(50, eps=1e-05, momentum=0.1, affine=True, track_running_stats=True)\n",
       "      (5): Dropout(p=0.1, inplace=False)\n",
       "      (6): Linear(in_features=50, out_features=5, bias=True)\n",
       "    )\n",
       "  )\n",
       "), opt_func=functools.partial(<class 'torch.optim.adam.Adam'>, betas=(0.9, 0.99)), loss_func=FlattenedLoss of CrossEntropyLoss(), metrics=[<function accuracy at 0x000001DE7C53B558>], true_wd=True, bn_wd=True, wd=0.01, train_bn=True, path=WindowsPath('.'), model_dir='models', callback_fns=[functools.partial(<class 'fastai.basic_train.Recorder'>, add_time=True, silent=False)], callbacks=[RNNTrainer\n",
       "learn: ...\n",
       "alpha: 2.0\n",
       "beta: 1.0], layer_groups=[Sequential(\n",
       "  (0): Embedding(16816, 400, padding_idx=1)\n",
       "  (1): EmbeddingDropout(\n",
       "    (emb): Embedding(16816, 400, padding_idx=1)\n",
       "  )\n",
       "), Sequential(\n",
       "  (0): WeightDropout(\n",
       "    (module): LSTM(400, 1152, batch_first=True)\n",
       "  )\n",
       "  (1): RNNDropout()\n",
       "), Sequential(\n",
       "  (0): WeightDropout(\n",
       "    (module): LSTM(1152, 1152, batch_first=True)\n",
       "  )\n",
       "  (1): RNNDropout()\n",
       "), Sequential(\n",
       "  (0): WeightDropout(\n",
       "    (module): LSTM(1152, 400, batch_first=True)\n",
       "  )\n",
       "  (1): RNNDropout()\n",
       "), Sequential(\n",
       "  (0): PoolingLinearClassifier(\n",
       "    (layers): Sequential(\n",
       "      (0): BatchNorm1d(1200, eps=1e-05, momentum=0.1, affine=True, track_running_stats=True)\n",
       "      (1): Dropout(p=0.2, inplace=False)\n",
       "      (2): Linear(in_features=1200, out_features=50, bias=True)\n",
       "      (3): ReLU(inplace=True)\n",
       "      (4): BatchNorm1d(50, eps=1e-05, momentum=0.1, affine=True, track_running_stats=True)\n",
       "      (5): Dropout(p=0.1, inplace=False)\n",
       "      (6): Linear(in_features=50, out_features=5, bias=True)\n",
       "    )\n",
       "  )\n",
       ")], add_time=True, silent=False)"
      ]
     },
     "execution_count": 131,
     "metadata": {},
     "output_type": "execute_result"
    }
   ],
   "source": [
    "# learn_classifier = text_classifier_learner(data_clas, AWD_LSTM, drop_mult=0.5)\n",
    "# learn_classifier.load_encoder('enc-stage-2')\n",
    "learn_classifier.load('sentiment-stage-1')"
   ]
  },
  {
   "cell_type": "code",
   "execution_count": 132,
   "metadata": {
    "scrolled": false
   },
   "outputs": [
    {
     "data": {
      "text/html": [
       "\n",
       "    <div>\n",
       "        <style>\n",
       "            /* Turns off some styling */\n",
       "            progress {\n",
       "                /* gets rid of default border in Firefox and Opera. */\n",
       "                border: none;\n",
       "                /* Needs to be in here for Safari polyfill so background images work as expected. */\n",
       "                background-size: auto;\n",
       "            }\n",
       "            .progress-bar-interrupted, .progress-bar-interrupted::-webkit-progress-bar {\n",
       "                background: #F44336;\n",
       "            }\n",
       "        </style>\n",
       "      <progress value='0' class='' max='1', style='width:300px; height:20px; vertical-align: middle;'></progress>\n",
       "      0.00% [0/1 00:00<00:00]\n",
       "    </div>\n",
       "    \n",
       "<table border=\"1\" class=\"dataframe\">\n",
       "  <thead>\n",
       "    <tr style=\"text-align: left;\">\n",
       "      <th>epoch</th>\n",
       "      <th>train_loss</th>\n",
       "      <th>valid_loss</th>\n",
       "      <th>accuracy</th>\n",
       "      <th>time</th>\n",
       "    </tr>\n",
       "  </thead>\n",
       "  <tbody>\n",
       "  </tbody>\n",
       "</table><p>\n",
       "\n",
       "    <div>\n",
       "        <style>\n",
       "            /* Turns off some styling */\n",
       "            progress {\n",
       "                /* gets rid of default border in Firefox and Opera. */\n",
       "                border: none;\n",
       "                /* Needs to be in here for Safari polyfill so background images work as expected. */\n",
       "                background-size: auto;\n",
       "            }\n",
       "            .progress-bar-interrupted, .progress-bar-interrupted::-webkit-progress-bar {\n",
       "                background: #F44336;\n",
       "            }\n",
       "        </style>\n",
       "      <progress value='92' class='' max='2000', style='width:300px; height:20px; vertical-align: middle;'></progress>\n",
       "      4.60% [92/2000 00:49<16:57 1.5371]\n",
       "    </div>\n",
       "    "
      ],
      "text/plain": [
       "<IPython.core.display.HTML object>"
      ]
     },
     "metadata": {},
     "output_type": "display_data"
    },
    {
     "name": "stdout",
     "output_type": "stream",
     "text": [
      "LR Finder is complete, type {learner_name}.recorder.plot() to see the graph.\n"
     ]
    },
    {
     "name": "stderr",
     "output_type": "stream",
     "text": [
      "Exception in thread QueueFeederThread:\n",
      "Traceback (most recent call last):\n",
      "  File \"C:\\ProgramData\\Anaconda3\\lib\\multiprocessing\\queues.py\", line 232, in _feed\n",
      "    close()\n",
      "  File \"C:\\ProgramData\\Anaconda3\\lib\\multiprocessing\\connection.py\", line 177, in close\n",
      "    self._close()\n",
      "  File \"C:\\ProgramData\\Anaconda3\\lib\\multiprocessing\\connection.py\", line 277, in _close\n",
      "    _CloseHandle(self._handle)\n",
      "OSError: [WinError 6] The handle is invalid\n",
      "\n",
      "During handling of the above exception, another exception occurred:\n",
      "\n",
      "Traceback (most recent call last):\n",
      "  File \"C:\\ProgramData\\Anaconda3\\lib\\threading.py\", line 926, in _bootstrap_inner\n",
      "    self.run()\n",
      "  File \"C:\\ProgramData\\Anaconda3\\lib\\threading.py\", line 870, in run\n",
      "    self._target(*self._args, **self._kwargs)\n",
      "  File \"C:\\ProgramData\\Anaconda3\\lib\\multiprocessing\\queues.py\", line 263, in _feed\n",
      "    queue_sem.release()\n",
      "ValueError: semaphore or lock released too many times\n",
      "\n"
     ]
    },
    {
     "data": {
      "image/png": "[encoded data removed]",
      "text/plain": [
       "<Figure size 432x288 with 1 Axes>"
      ]
     },
     "metadata": {
      "needs_background": "light"
     },
     "output_type": "display_data"
    }
   ],
   "source": [
    "learn_classifier.freeze_to(-2)\n",
    "learn_classifier.lr_find()\n",
    "learn_classifier.recorder.plot()"
   ]
  },
  {
   "cell_type": "code",
   "execution_count": 133,
   "metadata": {},
   "outputs": [
    {
     "data": {
      "text/html": [
       "<table border=\"1\" class=\"dataframe\">\n",
       "  <thead>\n",
       "    <tr style=\"text-align: left;\">\n",
       "      <th>epoch</th>\n",
       "      <th>train_loss</th>\n",
       "      <th>valid_loss</th>\n",
       "      <th>accuracy</th>\n",
       "      <th>time</th>\n",
       "    </tr>\n",
       "  </thead>\n",
       "  <tbody>\n",
       "    <tr>\n",
       "      <td>0</td>\n",
       "      <td>0.693067</td>\n",
       "      <td>0.600351</td>\n",
       "      <td>0.764000</td>\n",
       "      <td>04:36</td>\n",
       "    </tr>\n",
       "    <tr>\n",
       "      <td>1</td>\n",
       "      <td>0.683088</td>\n",
       "      <td>0.577081</td>\n",
       "      <td>0.769437</td>\n",
       "      <td>04:33</td>\n",
       "    </tr>\n",
       "    <tr>\n",
       "      <td>2</td>\n",
       "      <td>0.687134</td>\n",
       "      <td>0.566117</td>\n",
       "      <td>0.773750</td>\n",
       "      <td>04:33</td>\n",
       "    </tr>\n",
       "    <tr>\n",
       "      <td>3</td>\n",
       "      <td>0.608367</td>\n",
       "      <td>0.567810</td>\n",
       "      <td>0.774312</td>\n",
       "      <td>04:32</td>\n",
       "    </tr>\n",
       "    <tr>\n",
       "      <td>4</td>\n",
       "      <td>0.627051</td>\n",
       "      <td>0.567901</td>\n",
       "      <td>0.772563</td>\n",
       "      <td>04:31</td>\n",
       "    </tr>\n",
       "  </tbody>\n",
       "</table>"
      ],
      "text/plain": [
       "<IPython.core.display.HTML object>"
      ]
     },
     "metadata": {},
     "output_type": "display_data"
    }
   ],
   "source": [
    "learn_classifier.fit_one_cycle(5, slice(1e-5, 1e-3))"
   ]
  },
  {
   "cell_type": "code",
   "execution_count": 134,
   "metadata": {},
   "outputs": [],
   "source": [
    "learn_classifier.save('sentiment-stage-2')"
   ]
  },
  {
   "cell_type": "code",
   "execution_count": 9,
   "metadata": {},
   "outputs": [
    {
     "data": {
      "text/plain": [
       "RNNLearner(data=TextClasDataBunch;\n",
       "\n",
       "Train: LabelList (64000 items)\n",
       "x: TextList\n",
       "xxbos good stuff i like the ease of use it is good for my needs i really like it a lot and would buy another,xxbos i recommend this phone on a scale from 1 to 10 i rate this phone a 9 i have been using this phone for about two weeks and i m enjoying everything about this phone from looks to functions i have purchase many similar phones blu alcatel and so on and this one holds its own against them and many others if your were to ask me the only reason i would say i d give it a 9 is that the loud speaker could be a tad louder because if you are in a noisey environment you may need your headphones all and all this is a perfect phone call quality wifi bluetooth pictures all perfect,xxbos great product very sturdy and does everything the ad says it does < br > best price was found at amazon < br > highly recommend it for i phones,xxbos work great in beginning but mount gets loose and can not remove worked great in the beginning however after a few months the mount got loose every bump will cause the phone angle to change making it impossible to use as a gps mount despite the fact that it stopped working i left the mount on my car i recently attempted to remove it from my dash however the bottom piece adhesive does not want to come off i m afraid that if i apply force to remove it it will damage the car,xxbos five stars great product i was able to remove and re apply it with no problem\n",
       "y: CategoryList\n",
       "5,5,5,1,5\n",
       "Path: .;\n",
       "\n",
       "Valid: LabelList (16000 items)\n",
       "x: TextList\n",
       "xxbos five stars in perfect condition works good for me,xxbos five stars good product,xxbos but it sounds great and it has some really great features updated review i originally gave three stars due to not being able to get the feature of playing movies from usb memory stick but after a week of asking others users i got it to work so my only complaints with this stereo is that the church instructions for usb memory stick playing needs to be more detailed but it sounds great and it has some really great features it looks good also oh in order to pay movies from usb memory stick the movies had to be in meg 1 or 2 format and converted at 720 x 480 pixels and no more than 40 mbps,xxbos works but a pain to get sorted i got this to hook a gps to my xxunk se xxunk board and although this works its a pain to program all the different 3 parts i do recommend this board though,xxbos the case was horrible when i tried to put it on the the case was horrible when i tried to put it on the phone the case was nt easier to separate i tried to take the case off and it was so stuck the case broke worst case on earth\n",
       "y: CategoryList\n",
       "5,5,4,4,1\n",
       "Path: .;\n",
       "\n",
       "Test: LabelList (20000 items)\n",
       "x: TextList\n",
       "xxbos four stars skin fits great we love them,xxbos beware xxrep 4 * does not work i connected it and nothing happend very disappointed,xxbos five stars good,xxbos does not work for blackberry this item does not have the xxunk that makes that the blackberry display should turn off once its inserted into the holster so its kinda useless,xxbos but i do like it so far i have nt used it that much but i do like it so far it charges my phone quickly and i like the fact that it lets me know how much juice it has thanks\n",
       "y: EmptyLabelList\n",
       ",,,,\n",
       "Path: ., model=SequentialRNN(\n",
       "  (0): MultiBatchEncoder(\n",
       "    (module): AWD_LSTM(\n",
       "      (encoder): Embedding(16816, 400, padding_idx=1)\n",
       "      (encoder_dp): EmbeddingDropout(\n",
       "        (emb): Embedding(16816, 400, padding_idx=1)\n",
       "      )\n",
       "      (rnns): ModuleList(\n",
       "        (0): WeightDropout(\n",
       "          (module): LSTM(400, 1152, batch_first=True)\n",
       "        )\n",
       "        (1): WeightDropout(\n",
       "          (module): LSTM(1152, 1152, batch_first=True)\n",
       "        )\n",
       "        (2): WeightDropout(\n",
       "          (module): LSTM(1152, 400, batch_first=True)\n",
       "        )\n",
       "      )\n",
       "      (input_dp): RNNDropout()\n",
       "      (hidden_dps): ModuleList(\n",
       "        (0): RNNDropout()\n",
       "        (1): RNNDropout()\n",
       "        (2): RNNDropout()\n",
       "      )\n",
       "    )\n",
       "  )\n",
       "  (1): PoolingLinearClassifier(\n",
       "    (layers): Sequential(\n",
       "      (0): BatchNorm1d(1200, eps=1e-05, momentum=0.1, affine=True, track_running_stats=True)\n",
       "      (1): Dropout(p=0.2, inplace=False)\n",
       "      (2): Linear(in_features=1200, out_features=50, bias=True)\n",
       "      (3): ReLU(inplace=True)\n",
       "      (4): BatchNorm1d(50, eps=1e-05, momentum=0.1, affine=True, track_running_stats=True)\n",
       "      (5): Dropout(p=0.1, inplace=False)\n",
       "      (6): Linear(in_features=50, out_features=5, bias=True)\n",
       "    )\n",
       "  )\n",
       "), opt_func=functools.partial(<class 'torch.optim.adam.Adam'>, betas=(0.9, 0.99)), loss_func=FlattenedLoss of CrossEntropyLoss(), metrics=[<function accuracy at 0x000001AC674973A8>], true_wd=True, bn_wd=True, wd=0.01, train_bn=True, path=WindowsPath('.'), model_dir='models', callback_fns=[functools.partial(<class 'fastai.basic_train.Recorder'>, add_time=True, silent=False)], callbacks=[RNNTrainer\n",
       "learn: ...\n",
       "alpha: 2.0\n",
       "beta: 1.0], layer_groups=[Sequential(\n",
       "  (0): Embedding(16816, 400, padding_idx=1)\n",
       "  (1): EmbeddingDropout(\n",
       "    (emb): Embedding(16816, 400, padding_idx=1)\n",
       "  )\n",
       "), Sequential(\n",
       "  (0): WeightDropout(\n",
       "    (module): LSTM(400, 1152, batch_first=True)\n",
       "  )\n",
       "  (1): RNNDropout()\n",
       "), Sequential(\n",
       "  (0): WeightDropout(\n",
       "    (module): LSTM(1152, 1152, batch_first=True)\n",
       "  )\n",
       "  (1): RNNDropout()\n",
       "), Sequential(\n",
       "  (0): WeightDropout(\n",
       "    (module): LSTM(1152, 400, batch_first=True)\n",
       "  )\n",
       "  (1): RNNDropout()\n",
       "), Sequential(\n",
       "  (0): PoolingLinearClassifier(\n",
       "    (layers): Sequential(\n",
       "      (0): BatchNorm1d(1200, eps=1e-05, momentum=0.1, affine=True, track_running_stats=True)\n",
       "      (1): Dropout(p=0.2, inplace=False)\n",
       "      (2): Linear(in_features=1200, out_features=50, bias=True)\n",
       "      (3): ReLU(inplace=True)\n",
       "      (4): BatchNorm1d(50, eps=1e-05, momentum=0.1, affine=True, track_running_stats=True)\n",
       "      (5): Dropout(p=0.1, inplace=False)\n",
       "      (6): Linear(in_features=50, out_features=5, bias=True)\n",
       "    )\n",
       "  )\n",
       ")], add_time=True, silent=False)"
      ]
     },
     "execution_count": 9,
     "metadata": {},
     "output_type": "execute_result"
    }
   ],
   "source": [
    "learn_classifier = text_classifier_learner(data_clas, AWD_LSTM, drop_mult=0.5)\n",
    "learn_classifier.load_encoder('enc-stage-2')\n",
    "learn_classifier.load('sentiment-stage-2')"
   ]
  },
  {
   "cell_type": "code",
   "execution_count": 13,
   "metadata": {},
   "outputs": [],
   "source": [
    "gc.collect()\n",
    "torch.cuda.empty_cache()"
   ]
  },
  {
   "cell_type": "code",
   "execution_count": 15,
   "metadata": {},
   "outputs": [
    {
     "data": {
      "text/html": [
       "\n",
       "    <div>\n",
       "        <style>\n",
       "            /* Turns off some styling */\n",
       "            progress {\n",
       "                /* gets rid of default border in Firefox and Opera. */\n",
       "                border: none;\n",
       "                /* Needs to be in here for Safari polyfill so background images work as expected. */\n",
       "                background-size: auto;\n",
       "            }\n",
       "            .progress-bar-interrupted, .progress-bar-interrupted::-webkit-progress-bar {\n",
       "                background: #F44336;\n",
       "            }\n",
       "        </style>\n",
       "      <progress value='0' class='' max='1', style='width:300px; height:20px; vertical-align: middle;'></progress>\n",
       "      0.00% [0/1 00:00<00:00]\n",
       "    </div>\n",
       "    \n",
       "<table border=\"1\" class=\"dataframe\">\n",
       "  <thead>\n",
       "    <tr style=\"text-align: left;\">\n",
       "      <th>epoch</th>\n",
       "      <th>train_loss</th>\n",
       "      <th>valid_loss</th>\n",
       "      <th>accuracy</th>\n",
       "      <th>time</th>\n",
       "    </tr>\n",
       "  </thead>\n",
       "  <tbody>\n",
       "  </tbody>\n",
       "</table><p>\n",
       "\n",
       "    <div>\n",
       "        <style>\n",
       "            /* Turns off some styling */\n",
       "            progress {\n",
       "                /* gets rid of default border in Firefox and Opera. */\n",
       "                border: none;\n",
       "                /* Needs to be in here for Safari polyfill so background images work as expected. */\n",
       "                background-size: auto;\n",
       "            }\n",
       "            .progress-bar-interrupted, .progress-bar-interrupted::-webkit-progress-bar {\n",
       "                background: #F44336;\n",
       "            }\n",
       "        </style>\n",
       "      <progress value='92' class='' max='2000', style='width:300px; height:20px; vertical-align: middle;'></progress>\n",
       "      4.60% [92/2000 00:46<16:09 1.8425]\n",
       "    </div>\n",
       "    "
      ],
      "text/plain": [
       "<IPython.core.display.HTML object>"
      ]
     },
     "metadata": {},
     "output_type": "display_data"
    },
    {
     "name": "stdout",
     "output_type": "stream",
     "text": [
      "LR Finder is complete, type {learner_name}.recorder.plot() to see the graph.\n"
     ]
    },
    {
     "data": {
      "image/png": "[encoded data removed]",
      "text/plain": [
       "<Figure size 432x288 with 1 Axes>"
      ]
     },
     "metadata": {
      "needs_background": "light"
     },
     "output_type": "display_data"
    }
   ],
   "source": [
    "learn_classifier.freeze()\n",
    "learn_classifier.freeze_to(-1)\n",
    "learn_classifier.lr_find()\n",
    "learn_classifier.recorder.plot()"
   ]
  },
  {
   "cell_type": "code",
   "execution_count": 16,
   "metadata": {},
   "outputs": [
    {
     "data": {
      "text/html": [
       "<table border=\"1\" class=\"dataframe\">\n",
       "  <thead>\n",
       "    <tr style=\"text-align: left;\">\n",
       "      <th>epoch</th>\n",
       "      <th>train_loss</th>\n",
       "      <th>valid_loss</th>\n",
       "      <th>accuracy</th>\n",
       "      <th>time</th>\n",
       "    </tr>\n",
       "  </thead>\n",
       "  <tbody>\n",
       "    <tr>\n",
       "      <td>0</td>\n",
       "      <td>0.624201</td>\n",
       "      <td>0.562661</td>\n",
       "      <td>0.777500</td>\n",
       "      <td>03:58</td>\n",
       "    </tr>\n",
       "    <tr>\n",
       "      <td>1</td>\n",
       "      <td>0.592451</td>\n",
       "      <td>0.561295</td>\n",
       "      <td>0.776000</td>\n",
       "      <td>03:58</td>\n",
       "    </tr>\n",
       "    <tr>\n",
       "      <td>2</td>\n",
       "      <td>0.595493</td>\n",
       "      <td>0.560349</td>\n",
       "      <td>0.777313</td>\n",
       "      <td>03:58</td>\n",
       "    </tr>\n",
       "    <tr>\n",
       "      <td>3</td>\n",
       "      <td>0.599243</td>\n",
       "      <td>0.569242</td>\n",
       "      <td>0.774813</td>\n",
       "      <td>03:58</td>\n",
       "    </tr>\n",
       "    <tr>\n",
       "      <td>4</td>\n",
       "      <td>0.598938</td>\n",
       "      <td>0.560043</td>\n",
       "      <td>0.775250</td>\n",
       "      <td>04:02</td>\n",
       "    </tr>\n",
       "  </tbody>\n",
       "</table>"
      ],
      "text/plain": [
       "<IPython.core.display.HTML object>"
      ]
     },
     "metadata": {},
     "output_type": "display_data"
    }
   ],
   "source": [
    "learn_classifier.fit_one_cycle(5, slice(2e-4, 1e-3))"
   ]
  },
  {
   "cell_type": "code",
   "execution_count": 17,
   "metadata": {},
   "outputs": [],
   "source": [
    "learn_classifier.save('sentiment-stage-3')"
   ]
  },
  {
   "cell_type": "markdown",
   "metadata": {},
   "source": [
    "#### Evaluate Model"
   ]
  },
  {
   "cell_type": "markdown",
   "metadata": {},
   "source": [
    "We now check how well our model performed by predicting on our validation set.<br>\n",
    "Note that we have to add 1 to our predictions to convert zero-indexed predictions (0 to 4) to Amazon star ratings (1 to 5).<br>\n",
    "\n",
    "**Results:**\n",
    "- The model performs very well for 1 and 5-star reviews. These are the easiest to predict.\n",
    "- The model is not able to predict 2-4 star reviews well.\n",
    "    - For 2 and 4-star reviews, the model has a hard time distinguishing these with 1 and 5-star reviews, respectively.\n",
    "    - For 3-star reviews, the model get confused since this is 'neutral'. It gets half of these right, but assigns the other half anywhere from a 1 to a 5-star review."
   ]
  },
  {
   "cell_type": "code",
   "execution_count": 18,
   "metadata": {},
   "outputs": [
    {
     "data": {
      "text/html": [],
      "text/plain": [
       "<IPython.core.display.HTML object>"
      ]
     },
     "metadata": {},
     "output_type": "display_data"
    }
   ],
   "source": [
    "preds, target = learn_classifier.get_preds(DatasetType.Test, ordered=True)\n",
    "preds = np.argmax(preds, axis=1)\n",
    "preds += 1"
   ]
  },
  {
   "cell_type": "code",
   "execution_count": 19,
   "metadata": {},
   "outputs": [
    {
     "data": {
      "text/plain": [
       "(Category tensor(4),\n",
       " tensor(4),\n",
       " tensor([0.0048, 0.0185, 0.0280, 0.0257, 0.9230]))"
      ]
     },
     "execution_count": 19,
     "metadata": {},
     "output_type": "execute_result"
    }
   ],
   "source": [
    "learn_classifier.predict(\"Five stars\")"
   ]
  },
  {
   "cell_type": "code",
   "execution_count": 83,
   "metadata": {},
   "outputs": [
    {
     "data": {
      "text/plain": [
       "(Category tensor(2),\n",
       " tensor(2),\n",
       " tensor([0.1092, 0.2453, 0.3923, 0.1468, 0.1063]))"
      ]
     },
     "execution_count": 83,
     "metadata": {},
     "output_type": "execute_result"
    }
   ],
   "source": [
    "learn_classifier.predict(\"Good product, however the shipping was delayed\")"
   ]
  },
  {
   "cell_type": "code",
   "execution_count": 84,
   "metadata": {},
   "outputs": [
    {
     "data": {
      "text/plain": [
       "(Category tensor(0),\n",
       " tensor(0),\n",
       " tensor([0.6133, 0.3287, 0.0368, 0.0127, 0.0085]))"
      ]
     },
     "execution_count": 84,
     "metadata": {},
     "output_type": "execute_result"
    }
   ],
   "source": [
    "learn_classifier.predict(\"Would not recommend\")"
   ]
  },
  {
   "cell_type": "code",
   "execution_count": 88,
   "metadata": {},
   "outputs": [
    {
     "data": {
      "text/plain": [
       "(Category tensor(0),\n",
       " tensor(0),\n",
       " tensor([0.2724, 0.2589, 0.2586, 0.0678, 0.1423]))"
      ]
     },
     "execution_count": 88,
     "metadata": {},
     "output_type": "execute_result"
    }
   ],
   "source": [
    "learn_classifier.predict(\"To the left to the left, everything you own in the box to the left\")"
   ]
  },
  {
   "cell_type": "code",
   "execution_count": 39,
   "metadata": {},
   "outputs": [
    {
     "data": {
      "text/plain": [
       "0.76775"
      ]
     },
     "execution_count": 39,
     "metadata": {},
     "output_type": "execute_result"
    }
   ],
   "source": [
    "accuracy_score(df_val.star_rating, preds)"
   ]
  },
  {
   "cell_type": "code",
   "execution_count": 36,
   "metadata": {
    "scrolled": false
   },
   "outputs": [
    {
     "data": {
      "image/png": "[encoded data removed]",
      "text/plain": [
       "<Figure size 800x800 with 2 Axes>"
      ]
     },
     "metadata": {
      "needs_background": "light"
     },
     "output_type": "display_data"
    }
   ],
   "source": [
    "cm_analysis(df_val.star_rating, preds, data_clas.classes, pct_dec=0)"
   ]
  },
  {
   "cell_type": "markdown",
   "metadata": {},
   "source": [
    "##### --END--\n",
    "This ends my notebook for Sentiment Analysis using FastAI."
   ]
  }
 ],
 "metadata": {
  "kernelspec": {
   "display_name": "Python 3",
   "language": "python",
   "name": "python3"
  },
  "language_info": {
   "codemirror_mode": {
    "name": "ipython",
    "version": 3
   },
   "file_extension": ".py",
   "mimetype": "text/x-python",
   "name": "python",
   "nbconvert_exporter": "python",
   "pygments_lexer": "ipython3",
   "version": "3.7.4"
  },
  "toc": {
   "base_numbering": 1,
   "nav_menu": {},
   "number_sections": true,
   "sideBar": true,
   "skip_h1_title": false,
   "title_cell": "Table of Contents",
   "title_sidebar": "Contents",
   "toc_cell": false,
   "toc_position": {},
   "toc_section_display": true,
   "toc_window_display": false
  },
  "varInspector": {
   "cols": {
    "lenName": 16,
    "lenType": 16,
    "lenVar": 40
   },
   "kernels_config": {
    "python": {
     "delete_cmd_postfix": "",
     "delete_cmd_prefix": "del ",
     "library": "var_list.py",
     "varRefreshCmd": "print(var_dic_list())"
    },
    "r": {
     "delete_cmd_postfix": ") ",
     "delete_cmd_prefix": "rm(",
     "library": "var_list.r",
     "varRefreshCmd": "cat(var_dic_list()) "
    }
   },
   "types_to_exclude": [
    "module",
    "function",
    "builtin_function_or_method",
    "instance",
    "_Feature"
   ],
   "window_display": false
  }
 },
 "nbformat": 4,
 "nbformat_minor": 2
}
